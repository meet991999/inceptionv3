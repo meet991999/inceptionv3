{
 "cells": [
  {
   "cell_type": "code",
   "execution_count": 31,
   "metadata": {
    "id": "-1CJKqGpFN5S"
   },
   "outputs": [],
   "source": [
    "import tensorflow as tf\n",
    "from tensorflow import keras\n",
    "from tensorflow.keras.applications.inception_v3 import InceptionV3\n",
    "from tensorflow.keras.applications.inception_v3 import preprocess_input, decode_predictions"
   ]
  },
  {
   "cell_type": "code",
   "execution_count": 32,
   "metadata": {
    "id": "MwArVWGwFeKX"
   },
   "outputs": [],
   "source": [
    "batch_size=32\n",
    "buffer_size=1000"
   ]
  },
  {
   "cell_type": "code",
   "execution_count": 33,
   "metadata": {
    "colab": {
     "base_uri": "https://localhost:8080/"
    },
    "id": "IYmdlhbDFtZw",
    "outputId": "b944436e-708b-4bb5-be4e-51655de5d75e"
   },
   "outputs": [],
   "source": [
    "(x_train, y_train), (x_test,y_test) = tf.keras.datasets.cifar10.load_data()\n",
    "objects = ['airplane', 'automobile', 'bird', 'cat', 'deer',\n",
    "           'dog', 'frog', 'horse', 'ship', 'truck']\n"
   ]
  },
  {
   "cell_type": "code",
   "execution_count": 34,
   "metadata": {
    "id": "EmPjXWBHGQHJ"
   },
   "outputs": [],
   "source": [
    "dataset_train = tf.data.Dataset.from_tensor_slices((x_train, y_train))\n",
    "dataset_test = tf.data.Dataset.from_tensor_slices((x_test, y_test))"
   ]
  },
  {
   "cell_type": "code",
   "execution_count": 35,
   "metadata": {
    "id": "8CDQuDcbHM9L"
   },
   "outputs": [],
   "source": [
    "def preprocess_cifar10(img, label):\n",
    "    img = tf.cast(img, tf.float32)\n",
    "    img = tf.image.resize(img, (75, 75))\n",
    "    return tf.keras.applications.inception_v3.preprocess_input(img) , label\n",
    "dataset_train_processed = dataset_train.shuffle(buffer_size).batch(batch_size).map(preprocess_cifar10)\n",
    "dataset_test_processed = dataset_test.batch(batch_size).map(preprocess_cifar10)\n"
   ]
  },
  {
   "cell_type": "code",
   "execution_count": 36,
   "metadata": {
    "colab": {
     "base_uri": "https://localhost:8080/"
    },
    "id": "5Tq1olHlIiNF",
    "outputId": "60f24409-652b-4c12-e630-a192f8239755"
   },
   "outputs": [],
   "source": [
    "inception_model = InceptionV3(\n",
    "    include_top=False,\n",
    "    weights=\"imagenet\",\n",
    "    input_shape=(75,75,3)\n",
    ")\n"
   ]
  },
  {
   "cell_type": "code",
   "execution_count": 41,
   "metadata": {
    "id": "50A6PR6YIxwk"
   },
   "outputs": [],
   "source": [
    "\n",
    "x = inception_model.output\n",
    "x= keras.layers.GlobalMaxPooling2D()(x)\n",
    "x = keras.layers.Dropout(0.3)(x)\n",
    "x = keras.layers.Dense(1024, activation=\"relu\")(x)\n",
    "x = keras.layers.Dense(128, activation=\"relu\")(x)\n",
    "output = keras.layers.Dense(10, activation=\"softmax\")(x)\n",
    "model=keras.Model(inputs=inception_model.input, outputs = output)"
   ]
  },
  {
   "cell_type": "code",
   "execution_count": 42,
   "metadata": {
    "id": "OEZP7axNJg0Z"
   },
   "outputs": [],
   "source": [
    "for inception_layer in inception_model.layers:\n",
    "    inception_layer.trainable= False"
   ]
  },
  {
   "cell_type": "code",
   "execution_count": 43,
   "metadata": {
    "id": "Xnr42qroJ8KM"
   },
   "outputs": [],
   "source": [
    "\n",
    "model.compile(optimizer=\"adam\", loss=\"sparse_categorical_crossentropy\", metrics=[\"accuracy\"])"
   ]
  },
  {
   "cell_type": "code",
   "execution_count": 44,
   "metadata": {
    "colab": {
     "base_uri": "https://localhost:8080/"
    },
    "id": "_2cdoPscKrRv",
    "outputId": "fda17675-0edb-4a10-8e01-b96084c5df2b"
   },
   "outputs": [
    {
     "name": "stdout",
     "output_type": "stream",
     "text": [
      "Epoch 1/3\n",
      "1563/1563 [==============================] - 324s 205ms/step - loss: 1.2455 - accuracy: 0.5609 - val_loss: 1.0609 - val_accuracy: 0.6254\n",
      "Epoch 2/3\n",
      "1563/1563 [==============================] - 327s 209ms/step - loss: 1.0418 - accuracy: 0.6320 - val_loss: 1.0140 - val_accuracy: 0.6478\n",
      "Epoch 3/3\n",
      "1563/1563 [==============================] - 339s 217ms/step - loss: 0.9409 - accuracy: 0.6666 - val_loss: 1.0180 - val_accuracy: 0.6402\n"
     ]
    },
    {
     "data": {
      "text/plain": [
       "<keras.callbacks.History at 0x152ae475570>"
      ]
     },
     "execution_count": 44,
     "metadata": {},
     "output_type": "execute_result"
    }
   ],
   "source": [
    "\n",
    "model.fit(x=dataset_train_processed, validation_data = dataset_test_processed, epochs=3)"
   ]
  }
 ],
 "metadata": {
  "accelerator": "GPU",
  "colab": {
   "name": "CIFAR 10 with reception network.ipynb",
   "provenance": []
  },
  "gpuClass": "standard",
  "kernelspec": {
   "display_name": "Python 3 (ipykernel)",
   "language": "python",
   "name": "python3"
  },
  "language_info": {
   "codemirror_mode": {
    "name": "ipython",
    "version": 3
   },
   "file_extension": ".py",
   "mimetype": "text/x-python",
   "name": "python",
   "nbconvert_exporter": "python",
   "pygments_lexer": "ipython3",
   "version": "3.10.6"
  }
 },
 "nbformat": 4,
 "nbformat_minor": 1
}
